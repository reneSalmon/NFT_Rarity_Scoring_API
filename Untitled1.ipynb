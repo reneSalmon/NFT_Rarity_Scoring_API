{
 "cells": [
  {
   "cell_type": "code",
   "execution_count": 1,
   "id": "7068d264",
   "metadata": {},
   "outputs": [],
   "source": [
    "#Import packages\n",
    "import requests\n",
    "\n"
   ]
  },
  {
   "cell_type": "code",
   "execution_count": 2,
   "id": "bd75a185",
   "metadata": {},
   "outputs": [
    {
     "name": "stdout",
     "output_type": "stream",
     "text": [
      "200\n"
     ]
    }
   ],
   "source": [
    "#Call OpenSea API to get CryptoTrunks Data\n",
    "response = requests.get(\"https://api.opensea.io/api/v1/assets?collection=cryptotrunks&format=json&limit=50&offset=50&order_direction=desc\")\n",
    "print(response.status_code)"
   ]
  },
  {
   "cell_type": "code",
   "execution_count": 12,
   "id": "c1bcff9f",
   "metadata": {},
   "outputs": [],
   "source": [
    "#Save first 50 CryptoTrunks Data as JSON\n",
    "Crypto_trunks_50_json = response.json()"
   ]
  },
  {
   "cell_type": "code",
   "execution_count": 9,
   "id": "2cd7c0a5",
   "metadata": {},
   "outputs": [
    {
     "data": {
      "text/plain": [
       "50"
      ]
     },
     "execution_count": 9,
     "metadata": {},
     "output_type": "execute_result"
    }
   ],
   "source": [
    "#Create List of NFT_IDs\n",
    "List_of_50_NFTs = Crypto_trunks_50_json['assets']\n",
    "NFT_IDs =[List_of_50_NFTs[NFT]['token_id'] for NFT in range(len(Crypto_trunks_50_json['assets']))]\n",
    "len(NFT_IDs)"
   ]
  },
  {
   "cell_type": "code",
   "execution_count": 13,
   "id": "a49dd7f9",
   "metadata": {},
   "outputs": [
    {
     "data": {
      "text/plain": [
       "50"
      ]
     },
     "execution_count": 13,
     "metadata": {},
     "output_type": "execute_result"
    }
   ],
   "source": [
    "# List of 50 NFT which include all trait_types and the amount of them.\n",
    "List_of_Traits_in_all_NFTs = [\n",
    "    List_of_50_NFTs[NFT]['traits'] \n",
    "    for NFT in range(len(Crypto_trunks_50_json['assets']))]\n",
    "List_of_Traits_in_all_NFTs\n",
    "len(List_of_Traits_in_all_NFTs)"
   ]
  },
  {
   "cell_type": "code",
   "execution_count": 14,
   "id": "a2063cb1",
   "metadata": {},
   "outputs": [],
   "source": [
    "# List of all trait_types\n",
    "Trait_types_for_NFTs = [\n",
    "    List_of_Traits_in_all_NFTs[NFT][TRAITE]['trait_type'] \n",
    "    for NFT in range(len(List_of_Traits_in_all_NFTs))\n",
    "    for TRAITE in range(len(List_of_Traits_in_all_NFTs[NFT]))\n",
    "    ]"
   ]
  },
  {
   "cell_type": "code",
   "execution_count": null,
   "id": "d3b70d55",
   "metadata": {},
   "outputs": [],
   "source": []
  }
 ],
 "metadata": {
  "kernelspec": {
   "display_name": "Python 3 (ipykernel)",
   "language": "python",
   "name": "python3"
  },
  "language_info": {
   "codemirror_mode": {
    "name": "ipython",
    "version": 3
   },
   "file_extension": ".py",
   "mimetype": "text/x-python",
   "name": "python",
   "nbconvert_exporter": "python",
   "pygments_lexer": "ipython3",
   "version": "3.8.6"
  },
  "toc": {
   "base_numbering": 1,
   "nav_menu": {},
   "number_sections": true,
   "sideBar": true,
   "skip_h1_title": false,
   "title_cell": "Table of Contents",
   "title_sidebar": "Contents",
   "toc_cell": false,
   "toc_position": {},
   "toc_section_display": true,
   "toc_window_display": false
  },
  "varInspector": {
   "cols": {
    "lenName": 16,
    "lenType": 16,
    "lenVar": 40
   },
   "kernels_config": {
    "python": {
     "delete_cmd_postfix": "",
     "delete_cmd_prefix": "del ",
     "library": "var_list.py",
     "varRefreshCmd": "print(var_dic_list())"
    },
    "r": {
     "delete_cmd_postfix": ") ",
     "delete_cmd_prefix": "rm(",
     "library": "var_list.r",
     "varRefreshCmd": "cat(var_dic_list()) "
    }
   },
   "types_to_exclude": [
    "module",
    "function",
    "builtin_function_or_method",
    "instance",
    "_Feature"
   ],
   "window_display": false
  }
 },
 "nbformat": 4,
 "nbformat_minor": 5
}
