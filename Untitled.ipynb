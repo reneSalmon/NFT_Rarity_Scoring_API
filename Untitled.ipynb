{
 "cells": [
  {
   "cell_type": "code",
   "execution_count": 3,
   "id": "6a9100a9",
   "metadata": {},
   "outputs": [
    {
     "name": "stdout",
     "output_type": "stream",
     "text": [
      "Looking in indexes: https://pypi.org/simple, https://pypi.ngc.nvidia.com\n",
      "Requirement already satisfied: tensorflow==2.5.0 in /Users/renesalmon/.pyenv/versions/3.8.6/envs/lewagon/lib/python3.8/site-packages (2.5.0)\n",
      "Requirement already satisfied: wheel~=0.35 in /Users/renesalmon/.pyenv/versions/3.8.6/envs/lewagon/lib/python3.8/site-packages (from tensorflow==2.5.0) (0.36.2)\n",
      "Requirement already satisfied: keras-nightly~=2.5.0.dev in /Users/renesalmon/.pyenv/versions/3.8.6/envs/lewagon/lib/python3.8/site-packages (from tensorflow==2.5.0) (2.5.0.dev2021032900)\n",
      "Requirement already satisfied: numpy~=1.19.2 in /Users/renesalmon/.pyenv/versions/3.8.6/envs/lewagon/lib/python3.8/site-packages (from tensorflow==2.5.0) (1.19.2)\n",
      "Requirement already satisfied: h5py~=3.1.0 in /Users/renesalmon/.pyenv/versions/3.8.6/envs/lewagon/lib/python3.8/site-packages (from tensorflow==2.5.0) (3.1.0)\n",
      "Requirement already satisfied: google-pasta~=0.2 in /Users/renesalmon/.pyenv/versions/3.8.6/envs/lewagon/lib/python3.8/site-packages (from tensorflow==2.5.0) (0.2.0)\n",
      "Requirement already satisfied: flatbuffers~=1.12.0 in /Users/renesalmon/.pyenv/versions/3.8.6/envs/lewagon/lib/python3.8/site-packages (from tensorflow==2.5.0) (1.12)\n",
      "Requirement already satisfied: wrapt~=1.12.1 in /Users/renesalmon/.pyenv/versions/3.8.6/envs/lewagon/lib/python3.8/site-packages (from tensorflow==2.5.0) (1.12.1)\n",
      "Requirement already satisfied: absl-py~=0.10 in /Users/renesalmon/.pyenv/versions/3.8.6/envs/lewagon/lib/python3.8/site-packages (from tensorflow==2.5.0) (0.12.0)\n",
      "Requirement already satisfied: typing-extensions~=3.7.4 in /Users/renesalmon/.pyenv/versions/3.8.6/envs/lewagon/lib/python3.8/site-packages (from tensorflow==2.5.0) (3.7.4.3)\n",
      "Requirement already satisfied: six~=1.15.0 in /Users/renesalmon/.pyenv/versions/3.8.6/envs/lewagon/lib/python3.8/site-packages (from tensorflow==2.5.0) (1.15.0)\n",
      "Requirement already satisfied: grpcio~=1.34.0 in /Users/renesalmon/.pyenv/versions/3.8.6/envs/lewagon/lib/python3.8/site-packages (from tensorflow==2.5.0) (1.34.1)\n",
      "Requirement already satisfied: opt-einsum~=3.3.0 in /Users/renesalmon/.pyenv/versions/3.8.6/envs/lewagon/lib/python3.8/site-packages (from tensorflow==2.5.0) (3.3.0)\n",
      "Requirement already satisfied: gast==0.4.0 in /Users/renesalmon/.pyenv/versions/3.8.6/envs/lewagon/lib/python3.8/site-packages (from tensorflow==2.5.0) (0.4.0)\n",
      "Requirement already satisfied: termcolor~=1.1.0 in /Users/renesalmon/.pyenv/versions/3.8.6/envs/lewagon/lib/python3.8/site-packages (from tensorflow==2.5.0) (1.1.0)\n",
      "Requirement already satisfied: tensorboard~=2.5 in /Users/renesalmon/.pyenv/versions/3.8.6/envs/lewagon/lib/python3.8/site-packages (from tensorflow==2.5.0) (2.5.0)\n",
      "Requirement already satisfied: astunparse~=1.6.3 in /Users/renesalmon/.pyenv/versions/3.8.6/envs/lewagon/lib/python3.8/site-packages (from tensorflow==2.5.0) (1.6.3)\n",
      "Requirement already satisfied: protobuf>=3.9.2 in /Users/renesalmon/.pyenv/versions/3.8.6/envs/lewagon/lib/python3.8/site-packages (from tensorflow==2.5.0) (3.17.3)\n",
      "Requirement already satisfied: tensorflow-estimator<2.6.0,>=2.5.0rc0 in /Users/renesalmon/.pyenv/versions/3.8.6/envs/lewagon/lib/python3.8/site-packages (from tensorflow==2.5.0) (2.5.0)\n",
      "Requirement already satisfied: keras-preprocessing~=1.1.2 in /Users/renesalmon/.pyenv/versions/3.8.6/envs/lewagon/lib/python3.8/site-packages (from tensorflow==2.5.0) (1.1.2)\n",
      "Requirement already satisfied: werkzeug>=0.11.15 in /Users/renesalmon/.pyenv/versions/3.8.6/envs/lewagon/lib/python3.8/site-packages (from tensorboard~=2.5->tensorflow==2.5.0) (2.0.1)\n",
      "Requirement already satisfied: requests<3,>=2.21.0 in /Users/renesalmon/.pyenv/versions/3.8.6/envs/lewagon/lib/python3.8/site-packages (from tensorboard~=2.5->tensorflow==2.5.0) (2.24.0)\n",
      "Requirement already satisfied: markdown>=2.6.8 in /Users/renesalmon/.pyenv/versions/3.8.6/envs/lewagon/lib/python3.8/site-packages (from tensorboard~=2.5->tensorflow==2.5.0) (3.3.4)\n",
      "Requirement already satisfied: setuptools>=41.0.0 in /Users/renesalmon/.pyenv/versions/3.8.6/envs/lewagon/lib/python3.8/site-packages (from tensorboard~=2.5->tensorflow==2.5.0) (49.2.1)\n",
      "Requirement already satisfied: google-auth<2,>=1.6.3 in /Users/renesalmon/.pyenv/versions/3.8.6/envs/lewagon/lib/python3.8/site-packages (from tensorboard~=2.5->tensorflow==2.5.0) (1.32.1)\n",
      "Requirement already satisfied: tensorboard-data-server<0.7.0,>=0.6.0 in /Users/renesalmon/.pyenv/versions/3.8.6/envs/lewagon/lib/python3.8/site-packages (from tensorboard~=2.5->tensorflow==2.5.0) (0.6.1)\n",
      "Requirement already satisfied: google-auth-oauthlib<0.5,>=0.4.1 in /Users/renesalmon/.pyenv/versions/3.8.6/envs/lewagon/lib/python3.8/site-packages (from tensorboard~=2.5->tensorflow==2.5.0) (0.4.4)\n",
      "Requirement already satisfied: tensorboard-plugin-wit>=1.6.0 in /Users/renesalmon/.pyenv/versions/3.8.6/envs/lewagon/lib/python3.8/site-packages (from tensorboard~=2.5->tensorflow==2.5.0) (1.8.0)\n",
      "Requirement already satisfied: cachetools<5.0,>=2.0.0 in /Users/renesalmon/.pyenv/versions/3.8.6/envs/lewagon/lib/python3.8/site-packages (from google-auth<2,>=1.6.3->tensorboard~=2.5->tensorflow==2.5.0) (4.2.2)\n",
      "Requirement already satisfied: pyasn1-modules>=0.2.1 in /Users/renesalmon/.pyenv/versions/3.8.6/envs/lewagon/lib/python3.8/site-packages (from google-auth<2,>=1.6.3->tensorboard~=2.5->tensorflow==2.5.0) (0.2.8)\n",
      "Requirement already satisfied: rsa<5,>=3.1.4 in /Users/renesalmon/.pyenv/versions/3.8.6/envs/lewagon/lib/python3.8/site-packages (from google-auth<2,>=1.6.3->tensorboard~=2.5->tensorflow==2.5.0) (4.7.2)\n",
      "Requirement already satisfied: requests-oauthlib>=0.7.0 in /Users/renesalmon/.pyenv/versions/3.8.6/envs/lewagon/lib/python3.8/site-packages (from google-auth-oauthlib<0.5,>=0.4.1->tensorboard~=2.5->tensorflow==2.5.0) (1.3.0)\n",
      "Requirement already satisfied: idna<3,>=2.5 in /Users/renesalmon/.pyenv/versions/3.8.6/envs/lewagon/lib/python3.8/site-packages (from requests<3,>=2.21.0->tensorboard~=2.5->tensorflow==2.5.0) (2.10)\n",
      "Requirement already satisfied: certifi>=2017.4.17 in /Users/renesalmon/.pyenv/versions/3.8.6/envs/lewagon/lib/python3.8/site-packages (from requests<3,>=2.21.0->tensorboard~=2.5->tensorflow==2.5.0) (2020.6.20)\n",
      "Requirement already satisfied: chardet<4,>=3.0.2 in /Users/renesalmon/.pyenv/versions/3.8.6/envs/lewagon/lib/python3.8/site-packages (from requests<3,>=2.21.0->tensorboard~=2.5->tensorflow==2.5.0) (3.0.4)\n",
      "Requirement already satisfied: urllib3!=1.25.0,!=1.25.1,<1.26,>=1.21.1 in /Users/renesalmon/.pyenv/versions/3.8.6/envs/lewagon/lib/python3.8/site-packages (from requests<3,>=2.21.0->tensorboard~=2.5->tensorflow==2.5.0) (1.25.10)\n",
      "Requirement already satisfied: pyasn1<0.5.0,>=0.4.6 in /Users/renesalmon/.pyenv/versions/3.8.6/envs/lewagon/lib/python3.8/site-packages (from pyasn1-modules>=0.2.1->google-auth<2,>=1.6.3->tensorboard~=2.5->tensorflow==2.5.0) (0.4.8)\n",
      "Requirement already satisfied: oauthlib>=3.0.0 in /Users/renesalmon/.pyenv/versions/3.8.6/envs/lewagon/lib/python3.8/site-packages (from requests-oauthlib>=0.7.0->google-auth-oauthlib<0.5,>=0.4.1->tensorboard~=2.5->tensorflow==2.5.0) (3.1.1)\n"
     ]
    }
   ],
   "source": [
    "!pip install tensorflow==2.5.0"
   ]
  },
  {
   "cell_type": "code",
   "execution_count": 6,
   "id": "66563d44",
   "metadata": {},
   "outputs": [
    {
     "data": {
      "text/plain": [
       "<Response [200]>"
      ]
     },
     "execution_count": 6,
     "metadata": {},
     "output_type": "execute_result"
    }
   ],
   "source": [
    "import requests\n",
    "\n",
    "\n",
    "url = 'https://drive.google.com/uc?id=1xRU3xY5-tkiPGvlz5xBJ18_pHWSRzI4v'\n",
    "r = requests.get(url, allow_redirects=True)\n",
    "r"
   ]
  },
  {
   "cell_type": "code",
   "execution_count": 7,
   "id": "9ff5b5ea",
   "metadata": {},
   "outputs": [
    {
     "ename": "FileNotFoundError",
     "evalue": "[Errno 2] No such file or directory: './sarcasm.json'",
     "output_type": "error",
     "traceback": [
      "\u001b[0;31m---------------------------------------------------------------------------\u001b[0m",
      "\u001b[0;31mFileNotFoundError\u001b[0m                         Traceback (most recent call last)",
      "\u001b[0;32m/var/folders/2d/wwtz9jl52lx4gtzgs_r0x7rr0000gn/T/ipykernel_11686/2884188141.py\u001b[0m in \u001b[0;36m<module>\u001b[0;34m\u001b[0m\n\u001b[1;32m      1\u001b[0m \u001b[0;32mimport\u001b[0m \u001b[0mjson\u001b[0m\u001b[0;34m\u001b[0m\u001b[0;34m\u001b[0m\u001b[0m\n\u001b[1;32m      2\u001b[0m \u001b[0;34m\u001b[0m\u001b[0m\n\u001b[0;32m----> 3\u001b[0;31m \u001b[0;32mwith\u001b[0m \u001b[0mopen\u001b[0m\u001b[0;34m(\u001b[0m\u001b[0;34m\"./sarcasm.json\"\u001b[0m\u001b[0;34m,\u001b[0m \u001b[0;34m'r'\u001b[0m\u001b[0;34m)\u001b[0m \u001b[0;32mas\u001b[0m \u001b[0mf\u001b[0m\u001b[0;34m:\u001b[0m\u001b[0;34m\u001b[0m\u001b[0;34m\u001b[0m\u001b[0m\n\u001b[0m\u001b[1;32m      4\u001b[0m     \u001b[0mdatastore\u001b[0m \u001b[0;34m=\u001b[0m \u001b[0mjson\u001b[0m\u001b[0;34m.\u001b[0m\u001b[0mload\u001b[0m\u001b[0;34m(\u001b[0m\u001b[0mf\u001b[0m\u001b[0;34m)\u001b[0m\u001b[0;34m\u001b[0m\u001b[0;34m\u001b[0m\u001b[0m\n\u001b[1;32m      5\u001b[0m \u001b[0;34m\u001b[0m\u001b[0m\n",
      "\u001b[0;31mFileNotFoundError\u001b[0m: [Errno 2] No such file or directory: './sarcasm.json'"
     ]
    }
   ],
   "source": [
    "import json\n",
    "\n",
    "with open(\"./sarcasm.json\", 'r') as f:\n",
    "    datastore = json.load(f)\n",
    "\n",
    "\n",
    "sentences = [] \n",
    "labels = []\n",
    "urls = []\n",
    "for item in datastore:\n",
    "    sentences.append(item['headline'])\n",
    "    labels.append(item['is_sarcastic'])\n",
    "    urls.append(item['article_link'])\n",
    "\n"
   ]
  },
  {
   "cell_type": "code",
   "execution_count": null,
   "id": "ee6031a6",
   "metadata": {},
   "outputs": [],
   "source": []
  }
 ],
 "metadata": {
  "kernelspec": {
   "display_name": "Python 3 (ipykernel)",
   "language": "python",
   "name": "python3"
  },
  "language_info": {
   "codemirror_mode": {
    "name": "ipython",
    "version": 3
   },
   "file_extension": ".py",
   "mimetype": "text/x-python",
   "name": "python",
   "nbconvert_exporter": "python",
   "pygments_lexer": "ipython3",
   "version": "3.8.6"
  },
  "toc": {
   "base_numbering": 1,
   "nav_menu": {},
   "number_sections": true,
   "sideBar": true,
   "skip_h1_title": false,
   "title_cell": "Table of Contents",
   "title_sidebar": "Contents",
   "toc_cell": false,
   "toc_position": {},
   "toc_section_display": true,
   "toc_window_display": false
  },
  "varInspector": {
   "cols": {
    "lenName": 16,
    "lenType": 16,
    "lenVar": 40
   },
   "kernels_config": {
    "python": {
     "delete_cmd_postfix": "",
     "delete_cmd_prefix": "del ",
     "library": "var_list.py",
     "varRefreshCmd": "print(var_dic_list())"
    },
    "r": {
     "delete_cmd_postfix": ") ",
     "delete_cmd_prefix": "rm(",
     "library": "var_list.r",
     "varRefreshCmd": "cat(var_dic_list()) "
    }
   },
   "types_to_exclude": [
    "module",
    "function",
    "builtin_function_or_method",
    "instance",
    "_Feature"
   ],
   "window_display": false
  }
 },
 "nbformat": 4,
 "nbformat_minor": 5
}
